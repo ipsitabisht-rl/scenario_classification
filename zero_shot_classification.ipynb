{
 "cells": [
  {
   "cell_type": "code",
   "execution_count": 1,
   "id": "cae37c61",
   "metadata": {},
   "outputs": [],
   "source": [
    "from transformers import pipeline\n",
    "import pandas as pd\n",
    "import re\n",
    "from tqdm import tqdm"
   ]
  },
  {
   "cell_type": "code",
   "execution_count": 5,
   "id": "ea40a31f",
   "metadata": {},
   "outputs": [
    {
     "data": {
      "text/html": [
       "<div>\n",
       "<style scoped>\n",
       "    .dataframe tbody tr th:only-of-type {\n",
       "        vertical-align: middle;\n",
       "    }\n",
       "\n",
       "    .dataframe tbody tr th {\n",
       "        vertical-align: top;\n",
       "    }\n",
       "\n",
       "    .dataframe thead th {\n",
       "        text-align: right;\n",
       "    }\n",
       "</style>\n",
       "<table border=\"1\" class=\"dataframe\">\n",
       "  <thead>\n",
       "    <tr style=\"text-align: right;\">\n",
       "      <th></th>\n",
       "      <th>scenario_id</th>\n",
       "      <th>name</th>\n",
       "      <th>problem_statement</th>\n",
       "      <th>reference_output</th>\n",
       "    </tr>\n",
       "  </thead>\n",
       "  <tbody>\n",
       "    <tr>\n",
       "      <th>0</th>\n",
       "      <td>scn_2zmp0KdIY5itVDOEH2O8E</td>\n",
       "      <td>astropy__astropy-14539</td>\n",
       "      <td>`io.fits.FITSDiff` may sometimes report differ...</td>\n",
       "      <td>diff --git a/astropy/io/fits/diff.py b/astropy...</td>\n",
       "    </tr>\n",
       "    <tr>\n",
       "      <th>1</th>\n",
       "      <td>scn_2zmp0EqlSNVLcTgHkFZ6F</td>\n",
       "      <td>astropy__astropy-12907</td>\n",
       "      <td>Modeling's `separability_matrix` does not comp...</td>\n",
       "      <td>diff --git a/astropy/modeling/separable.py b/a...</td>\n",
       "    </tr>\n",
       "  </tbody>\n",
       "</table>\n",
       "</div>"
      ],
      "text/plain": [
       "                 scenario_id                    name  \\\n",
       "0  scn_2zmp0KdIY5itVDOEH2O8E  astropy__astropy-14539   \n",
       "1  scn_2zmp0EqlSNVLcTgHkFZ6F  astropy__astropy-12907   \n",
       "\n",
       "                                   problem_statement  \\\n",
       "0  `io.fits.FITSDiff` may sometimes report differ...   \n",
       "1  Modeling's `separability_matrix` does not comp...   \n",
       "\n",
       "                                    reference_output  \n",
       "0  diff --git a/astropy/io/fits/diff.py b/astropy...  \n",
       "1  diff --git a/astropy/modeling/separable.py b/a...  "
      ]
     },
     "execution_count": 5,
     "metadata": {},
     "output_type": "execute_result"
    }
   ],
   "source": [
    "# load swe bench scenario data\n",
    "\n",
    "\n",
    "df = pd.read_csv('swebench_scenarios.csv')\n",
    "df.head(2)"
   ]
  },
  {
   "cell_type": "code",
   "execution_count": null,
   "id": "32b762c3",
   "metadata": {},
   "outputs": [
    {
     "data": {
      "application/vnd.jupyter.widget-view+json": {
       "model_id": "bb44e1f925ae40208b819b2d2bb7e0bd",
       "version_major": 2,
       "version_minor": 0
      },
      "text/plain": [
       "config.json: 0.00B [00:00, ?B/s]"
      ]
     },
     "metadata": {},
     "output_type": "display_data"
    },
    {
     "data": {
      "application/vnd.jupyter.widget-view+json": {
       "model_id": "86cbf3e22f18418a978fb5a775260dc3",
       "version_major": 2,
       "version_minor": 0
      },
      "text/plain": [
       "model.safetensors:   0%|          | 0.00/870M [00:00<?, ?B/s]"
      ]
     },
     "metadata": {},
     "output_type": "display_data"
    },
    {
     "data": {
      "application/vnd.jupyter.widget-view+json": {
       "model_id": "efb6bbe9e9c84f4386bc14b4f09d6bea",
       "version_major": 2,
       "version_minor": 0
      },
      "text/plain": [
       "tokenizer_config.json: 0.00B [00:00, ?B/s]"
      ]
     },
     "metadata": {},
     "output_type": "display_data"
    },
    {
     "data": {
      "application/vnd.jupyter.widget-view+json": {
       "model_id": "baefe3c6d3a5433ebd7df9b5a5a9fe3e",
       "version_major": 2,
       "version_minor": 0
      },
      "text/plain": [
       "spm.model:   0%|          | 0.00/2.46M [00:00<?, ?B/s]"
      ]
     },
     "metadata": {},
     "output_type": "display_data"
    },
    {
     "data": {
      "application/vnd.jupyter.widget-view+json": {
       "model_id": "64827c742b4e49b680f7b8c7387c8a8a",
       "version_major": 2,
       "version_minor": 0
      },
      "text/plain": [
       "tokenizer.json: 0.00B [00:00, ?B/s]"
      ]
     },
     "metadata": {},
     "output_type": "display_data"
    },
    {
     "data": {
      "application/vnd.jupyter.widget-view+json": {
       "model_id": "2b1c701dca994655b0214a2888c4a854",
       "version_major": 2,
       "version_minor": 0
      },
      "text/plain": [
       "added_tokens.json:   0%|          | 0.00/23.0 [00:00<?, ?B/s]"
      ]
     },
     "metadata": {},
     "output_type": "display_data"
    },
    {
     "data": {
      "application/vnd.jupyter.widget-view+json": {
       "model_id": "9863bba429534a7c805618393b73f49e",
       "version_major": 2,
       "version_minor": 0
      },
      "text/plain": [
       "special_tokens_map.json:   0%|          | 0.00/970 [00:00<?, ?B/s]"
      ]
     },
     "metadata": {},
     "output_type": "display_data"
    },
    {
     "name": "stderr",
     "output_type": "stream",
     "text": [
      "Device set to use mps\n"
     ]
    }
   ],
   "source": [
    "labels = ['api', 'security']\n",
    "\n",
    "classifier = pipeline(\n",
    "    \"zero-shot-classification\",\n",
    "    model=\"MoritzLaurer/deberta-v3-large-zeroshot-v2.0\",\n",
    "    device_map=\"auto\"\n",
    ")"
   ]
  },
  {
   "cell_type": "code",
   "execution_count": 11,
   "id": "914cdb82",
   "metadata": {},
   "outputs": [
    {
     "name": "stderr",
     "output_type": "stream",
     "text": [
      "100%|██████████| 500/500 [06:12<00:00,  1.34it/s]\n"
     ]
    }
   ],
   "source": [
    "# classification prompts \n",
    "\n",
    "def classify_prompt(prompt):\n",
    "    result = classifier(prompt, candidate_labels=labels, multi_label=True)\n",
    "    preds = [lbl for lbl, score in zip(result[\"labels\"], result[\"scores\"]) if score >= 0.3]\n",
    "    return preds\n",
    "\n",
    "tqdm.pandas()\n",
    "df[\"text_labels\"] = df[\"problem_statement\"].progress_apply(classify_prompt)\n"
   ]
  },
  {
   "cell_type": "code",
   "execution_count": 14,
   "id": "db3c6848",
   "metadata": {},
   "outputs": [
    {
     "name": "stderr",
     "output_type": "stream",
     "text": [
      "100%|██████████| 500/500 [00:00<00:00, 10491.22it/s]\n"
     ]
    },
    {
     "data": {
      "text/html": [
       "<div>\n",
       "<style scoped>\n",
       "    .dataframe tbody tr th:only-of-type {\n",
       "        vertical-align: middle;\n",
       "    }\n",
       "\n",
       "    .dataframe tbody tr th {\n",
       "        vertical-align: top;\n",
       "    }\n",
       "\n",
       "    .dataframe thead th {\n",
       "        text-align: right;\n",
       "    }\n",
       "</style>\n",
       "<table border=\"1\" class=\"dataframe\">\n",
       "  <thead>\n",
       "    <tr style=\"text-align: right;\">\n",
       "      <th></th>\n",
       "      <th>scenario_id</th>\n",
       "      <th>name</th>\n",
       "      <th>problem_statement</th>\n",
       "      <th>reference_output</th>\n",
       "      <th>text_labels</th>\n",
       "      <th>diff_labels</th>\n",
       "    </tr>\n",
       "  </thead>\n",
       "  <tbody>\n",
       "    <tr>\n",
       "      <th>0</th>\n",
       "      <td>scn_2zmp0KdIY5itVDOEH2O8E</td>\n",
       "      <td>astropy__astropy-14539</td>\n",
       "      <td>`io.fits.FITSDiff` may sometimes report differ...</td>\n",
       "      <td>diff --git a/astropy/io/fits/diff.py b/astropy...</td>\n",
       "      <td>[api, debugging]</td>\n",
       "      <td>[]</td>\n",
       "    </tr>\n",
       "    <tr>\n",
       "      <th>1</th>\n",
       "      <td>scn_2zmp0EqlSNVLcTgHkFZ6F</td>\n",
       "      <td>astropy__astropy-12907</td>\n",
       "      <td>Modeling's `separability_matrix` does not comp...</td>\n",
       "      <td>diff --git a/astropy/modeling/separable.py b/a...</td>\n",
       "      <td>[]</td>\n",
       "      <td>[]</td>\n",
       "    </tr>\n",
       "    <tr>\n",
       "      <th>2</th>\n",
       "      <td>scn_2zmp0GuMgYGInwVXBDTi4</td>\n",
       "      <td>astropy__astropy-13453</td>\n",
       "      <td>ASCII table output to HTML does not support su...</td>\n",
       "      <td>diff --git a/astropy/io/ascii/html.py b/astrop...</td>\n",
       "      <td>[api]</td>\n",
       "      <td>[]</td>\n",
       "    </tr>\n",
       "    <tr>\n",
       "      <th>3</th>\n",
       "      <td>scn_2zmp0FNKBaWxeyag3pcOo</td>\n",
       "      <td>astropy__astropy-13033</td>\n",
       "      <td>TimeSeries: misleading exception when required...</td>\n",
       "      <td>diff --git a/astropy/timeseries/core.py b/astr...</td>\n",
       "      <td>[]</td>\n",
       "      <td>[]</td>\n",
       "    </tr>\n",
       "    <tr>\n",
       "      <th>4</th>\n",
       "      <td>scn_2zmy1cs5o86orY3mw2ibH</td>\n",
       "      <td>astropy__astropy-7606</td>\n",
       "      <td>Unit equality comparison with None raises Type...</td>\n",
       "      <td>diff --git a/astropy/units/core.py b/astropy/u...</td>\n",
       "      <td>[]</td>\n",
       "      <td>[]</td>\n",
       "    </tr>\n",
       "  </tbody>\n",
       "</table>\n",
       "</div>"
      ],
      "text/plain": [
       "                 scenario_id                    name  \\\n",
       "0  scn_2zmp0KdIY5itVDOEH2O8E  astropy__astropy-14539   \n",
       "1  scn_2zmp0EqlSNVLcTgHkFZ6F  astropy__astropy-12907   \n",
       "2  scn_2zmp0GuMgYGInwVXBDTi4  astropy__astropy-13453   \n",
       "3  scn_2zmp0FNKBaWxeyag3pcOo  astropy__astropy-13033   \n",
       "4  scn_2zmy1cs5o86orY3mw2ibH   astropy__astropy-7606   \n",
       "\n",
       "                                   problem_statement  \\\n",
       "0  `io.fits.FITSDiff` may sometimes report differ...   \n",
       "1  Modeling's `separability_matrix` does not comp...   \n",
       "2  ASCII table output to HTML does not support su...   \n",
       "3  TimeSeries: misleading exception when required...   \n",
       "4  Unit equality comparison with None raises Type...   \n",
       "\n",
       "                                    reference_output       text_labels  \\\n",
       "0  diff --git a/astropy/io/fits/diff.py b/astropy...  [api, debugging]   \n",
       "1  diff --git a/astropy/modeling/separable.py b/a...                []   \n",
       "2  diff --git a/astropy/io/ascii/html.py b/astrop...             [api]   \n",
       "3  diff --git a/astropy/timeseries/core.py b/astr...                []   \n",
       "4  diff --git a/astropy/units/core.py b/astropy/u...                []   \n",
       "\n",
       "  diff_labels  \n",
       "0          []  \n",
       "1          []  \n",
       "2          []  \n",
       "3          []  \n",
       "4          []  "
      ]
     },
     "execution_count": 14,
     "metadata": {},
     "output_type": "execute_result"
    }
   ],
   "source": [
    "# heuristic labeling \n",
    "def classify_diff(diff):\n",
    "    found = set()\n",
    "\n",
    "    # API use\n",
    "    if re.search(r\"\\b(import|from)\\s+(requests|httpx|urllib|boto3|openai|google|api)\", diff):\n",
    "        found.add(\"api\")\n",
    "    if re.search(r\"\\.(get|post|put|delete)\\s*\\(\", diff):\n",
    "        found.add(\"api \")\n",
    "\n",
    "    # # Testing\n",
    "    # if re.search(r\"test_\", diff) or \"assert\" in diff:\n",
    "    #     found.add(\"testing\")\n",
    "\n",
    "    # Security\n",
    "    if re.search(r\"(sanitize|escape|encode|auth|permission|csrf|token|secret|encrypt)\", diff, re.I):\n",
    "        found.add(\"security\")\n",
    "\n",
    "    # # Performance\n",
    "    # if re.search(r\"(optimiz|cache|speed|latenc|profil|batch|vectoriz|memoiz)\", diff, re.I):\n",
    "    #     found.add(\"performance optimization\")\n",
    "\n",
    "    # # Refactoring\n",
    "    # if re.search(r\"(rename|cleanup|refactor|restructure|simplif|extract|move function)\", diff, re.I):\n",
    "    #     found.add(\"refactoring\")\n",
    "\n",
    "    return list(found)\n",
    "\n",
    "df[\"diff_labels\"] = df[\"reference_output\"].progress_apply(classify_diff)\n",
    "\n",
    "\n",
    "df.head()"
   ]
  },
  {
   "cell_type": "code",
   "execution_count": 16,
   "id": "1e07d86f",
   "metadata": {},
   "outputs": [
    {
     "data": {
      "text/html": [
       "<div>\n",
       "<style scoped>\n",
       "    .dataframe tbody tr th:only-of-type {\n",
       "        vertical-align: middle;\n",
       "    }\n",
       "\n",
       "    .dataframe tbody tr th {\n",
       "        vertical-align: top;\n",
       "    }\n",
       "\n",
       "    .dataframe thead th {\n",
       "        text-align: right;\n",
       "    }\n",
       "</style>\n",
       "<table border=\"1\" class=\"dataframe\">\n",
       "  <thead>\n",
       "    <tr style=\"text-align: right;\">\n",
       "      <th></th>\n",
       "      <th>scenario_id</th>\n",
       "      <th>name</th>\n",
       "      <th>problem_statement</th>\n",
       "      <th>reference_output</th>\n",
       "      <th>text_labels</th>\n",
       "      <th>diff_labels</th>\n",
       "      <th>final_labels</th>\n",
       "    </tr>\n",
       "  </thead>\n",
       "  <tbody>\n",
       "    <tr>\n",
       "      <th>0</th>\n",
       "      <td>scn_2zmp0KdIY5itVDOEH2O8E</td>\n",
       "      <td>astropy__astropy-14539</td>\n",
       "      <td>`io.fits.FITSDiff` may sometimes report differ...</td>\n",
       "      <td>diff --git a/astropy/io/fits/diff.py b/astropy...</td>\n",
       "      <td>[api, debugging]</td>\n",
       "      <td>[]</td>\n",
       "      <td>[debugging, api]</td>\n",
       "    </tr>\n",
       "    <tr>\n",
       "      <th>1</th>\n",
       "      <td>scn_2zmp0EqlSNVLcTgHkFZ6F</td>\n",
       "      <td>astropy__astropy-12907</td>\n",
       "      <td>Modeling's `separability_matrix` does not comp...</td>\n",
       "      <td>diff --git a/astropy/modeling/separable.py b/a...</td>\n",
       "      <td>[]</td>\n",
       "      <td>[]</td>\n",
       "      <td>[debugging]</td>\n",
       "    </tr>\n",
       "    <tr>\n",
       "      <th>2</th>\n",
       "      <td>scn_2zmp0GuMgYGInwVXBDTi4</td>\n",
       "      <td>astropy__astropy-13453</td>\n",
       "      <td>ASCII table output to HTML does not support su...</td>\n",
       "      <td>diff --git a/astropy/io/ascii/html.py b/astrop...</td>\n",
       "      <td>[api]</td>\n",
       "      <td>[]</td>\n",
       "      <td>[api]</td>\n",
       "    </tr>\n",
       "    <tr>\n",
       "      <th>3</th>\n",
       "      <td>scn_2zmp0FNKBaWxeyag3pcOo</td>\n",
       "      <td>astropy__astropy-13033</td>\n",
       "      <td>TimeSeries: misleading exception when required...</td>\n",
       "      <td>diff --git a/astropy/timeseries/core.py b/astr...</td>\n",
       "      <td>[]</td>\n",
       "      <td>[]</td>\n",
       "      <td>[debugging]</td>\n",
       "    </tr>\n",
       "    <tr>\n",
       "      <th>4</th>\n",
       "      <td>scn_2zmy1cs5o86orY3mw2ibH</td>\n",
       "      <td>astropy__astropy-7606</td>\n",
       "      <td>Unit equality comparison with None raises Type...</td>\n",
       "      <td>diff --git a/astropy/units/core.py b/astropy/u...</td>\n",
       "      <td>[]</td>\n",
       "      <td>[]</td>\n",
       "      <td>[debugging]</td>\n",
       "    </tr>\n",
       "  </tbody>\n",
       "</table>\n",
       "</div>"
      ],
      "text/plain": [
       "                 scenario_id                    name  \\\n",
       "0  scn_2zmp0KdIY5itVDOEH2O8E  astropy__astropy-14539   \n",
       "1  scn_2zmp0EqlSNVLcTgHkFZ6F  astropy__astropy-12907   \n",
       "2  scn_2zmp0GuMgYGInwVXBDTi4  astropy__astropy-13453   \n",
       "3  scn_2zmp0FNKBaWxeyag3pcOo  astropy__astropy-13033   \n",
       "4  scn_2zmy1cs5o86orY3mw2ibH   astropy__astropy-7606   \n",
       "\n",
       "                                   problem_statement  \\\n",
       "0  `io.fits.FITSDiff` may sometimes report differ...   \n",
       "1  Modeling's `separability_matrix` does not comp...   \n",
       "2  ASCII table output to HTML does not support su...   \n",
       "3  TimeSeries: misleading exception when required...   \n",
       "4  Unit equality comparison with None raises Type...   \n",
       "\n",
       "                                    reference_output       text_labels  \\\n",
       "0  diff --git a/astropy/io/fits/diff.py b/astropy...  [api, debugging]   \n",
       "1  diff --git a/astropy/modeling/separable.py b/a...                []   \n",
       "2  diff --git a/astropy/io/ascii/html.py b/astrop...             [api]   \n",
       "3  diff --git a/astropy/timeseries/core.py b/astr...                []   \n",
       "4  diff --git a/astropy/units/core.py b/astropy/u...                []   \n",
       "\n",
       "  diff_labels      final_labels  \n",
       "0          []  [debugging, api]  \n",
       "1          []       [debugging]  \n",
       "2          []             [api]  \n",
       "3          []       [debugging]  \n",
       "4          []       [debugging]  "
      ]
     },
     "execution_count": 16,
     "metadata": {},
     "output_type": "execute_result"
    }
   ],
   "source": [
    "# merge and normalize \n",
    "def merge_labels(row):\n",
    "    merged = set(row[\"text_labels\"]) | set(row[\"diff_labels\"])\n",
    "    if not merged:\n",
    "        merged.add(\"debugging\")\n",
    "    return list(merged)\n",
    "\n",
    "df[\"final_labels\"] = df.apply(merge_labels, axis=1)\n",
    "df.head()"
   ]
  },
  {
   "cell_type": "code",
   "execution_count": 19,
   "id": "200a06de",
   "metadata": {},
   "outputs": [],
   "source": [
    "df[[\"scenario_id\", \"problem_statement\", \"reference_output\", \"final_labels\"]].to_csv(\"swebench_labeled.csv\", index=False)"
   ]
  }
 ],
 "metadata": {
  "kernelspec": {
   "display_name": "base",
   "language": "python",
   "name": "python3"
  },
  "language_info": {
   "codemirror_mode": {
    "name": "ipython",
    "version": 3
   },
   "file_extension": ".py",
   "mimetype": "text/x-python",
   "name": "python",
   "nbconvert_exporter": "python",
   "pygments_lexer": "ipython3",
   "version": "3.13.2"
  }
 },
 "nbformat": 4,
 "nbformat_minor": 5
}
